{
  "nbformat": 4,
  "nbformat_minor": 0,
  "metadata": {
    "colab": {
      "provenance": []
    },
    "kernelspec": {
      "name": "python3",
      "display_name": "Python 3"
    },
    "language_info": {
      "name": "python"
    }
  },
  "cells": [
    {
      "cell_type": "code",
      "metadata": {
        "id": "Hriec-JanBF6"
      },
      "source": [
        "#Định nghĩa một hàm sigmoid\n",
        "def sigmoid(z):\n",
        "    op = 1/(1 + np.exp(-z))\n",
        "    return op"
      ],
      "execution_count": null,
      "outputs": []
    },
    {
      "cell_type": "code",
      "metadata": {
        "id": "VmV1ydZ-nMwG"
      },
      "source": [
        "#Loss Function\n",
        "\n",
        "def loss(h, y):\n",
        "    return (-y * np.log(h) - (1 - y) * np.log(1 - h)).mean()"
      ],
      "execution_count": null,
      "outputs": []
    },
    {
      "cell_type": "code",
      "metadata": {
        "id": "KA35p0lSWd4l"
      },
      "source": [
        "#Gradient_descent\n",
        "def gradient_descent(X, h, y):\n",
        "    return np.dot(X.T, (h - y)) / y.shape[0]"
      ],
      "execution_count": null,
      "outputs": []
    },
    {
      "cell_type": "code",
      "metadata": {
        "id": "cAl5e7l3Xugz"
      },
      "source": [
        "import numpy as np\n",
        "\n",
        "class LogisticRegression:\n",
        "    def __init__(self,x,y):\n",
        "        self.intercept = np.ones((x.shape[0], 1))\n",
        "        self.x = np.concatenate((self.intercept, x), axis=1)\n",
        "        self.weight = np.zeros(self.x.shape[1])\n",
        "        self.y = y\n",
        "\n",
        "    #Sigmoid method\n",
        "    def sigmoid(self, x, weight):\n",
        "        z = np.dot(x, weight)\n",
        "        return 1 / (1 + np.exp(-z))\n",
        "\n",
        "    #method to calculate the Loss\n",
        "    def loss(self, h, y):\n",
        "        return (-y * np.log(h) - (1 - y) * np.log(1 - h)).mean()\n",
        "\n",
        "    #Method for calculating the gradients\n",
        "    def gradient_descent(self, X, h, y):\n",
        "        return np.dot(X.T, (h - y)) / y.shape[0]\n",
        "\n",
        "\n",
        "    def fit(self, lr , iterations):\n",
        "        for i in range(iterations):\n",
        "            sigma = self.sigmoid(self.x, self.weight)\n",
        "\n",
        "            loss = self.loss(sigma,self.y)\n",
        "\n",
        "            dW = self.gradient_descent(self.x , sigma, self.y)\n",
        "\n",
        "            #Updating the weights\n",
        "            self.weight -= lr * dW\n",
        "\n",
        "        return print('fitted successfully to data')\n",
        "\n",
        "    #Method to predict the class label.\n",
        "    def predict(self, x_new , treshold):\n",
        "        x_new = np.concatenate((self.intercept, x_new), axis=1)\n",
        "        result = self.sigmoid(x_new, self.weight)\n",
        "        result = result >= treshold\n",
        "        y_pred = np.zeros(result.shape[0])\n",
        "        for i in range(len(y_pred)):\n",
        "            if result[i] == True:\n",
        "                y_pred[i] = 1\n",
        "            else:\n",
        "                continue\n",
        "\n",
        "        return y_pred"
      ],
      "execution_count": null,
      "outputs": []
    },
    {
      "cell_type": "code",
      "metadata": {
        "colab": {
          "base_uri": "https://localhost:8080/"
        },
        "id": "hdFKNZICc9e2",
        "outputId": "2654743a-4857-4724-ba9c-157829ac2f15"
      },
      "source": [
        "from sklearn.datasets import load_breast_cancer\n",
        "\n",
        "#Loading the data\n",
        "data = load_breast_cancer()\n",
        "\n",
        "#Preparing the data\n",
        "x = data.data\n",
        "y = data.target\n",
        "\n",
        "#creating the class Object\n",
        "regressor = LogisticRegression(x,y)\n",
        "\n",
        "#\n",
        "regressor.fit(0.1 , 5000)\n",
        "\n",
        "\n",
        "y_pred = regressor.predict(x,0.5)\n",
        "\n",
        "print('accuracy -> {}'.format(sum(y_pred == y) / y.shape[0]))"
      ],
      "execution_count": null,
      "outputs": [
        {
          "output_type": "stream",
          "name": "stderr",
          "text": [
            "<ipython-input-4-8c80f8feb407>:13: RuntimeWarning: overflow encountered in exp\n",
            "  return 1 / (1 + np.exp(-z))\n",
            "<ipython-input-4-8c80f8feb407>:17: RuntimeWarning: divide by zero encountered in log\n",
            "  return (-y * np.log(h) - (1 - y) * np.log(1 - h)).mean()\n",
            "<ipython-input-4-8c80f8feb407>:17: RuntimeWarning: invalid value encountered in multiply\n",
            "  return (-y * np.log(h) - (1 - y) * np.log(1 - h)).mean()\n"
          ]
        },
        {
          "output_type": "stream",
          "name": "stdout",
          "text": [
            "fitted successfully to data\n",
            "accuracy -> 0.9226713532513181\n"
          ]
        }
      ]
    },
    {
      "cell_type": "code",
      "metadata": {
        "id": "ZQmXRphagzmz"
      },
      "source": [],
      "execution_count": null,
      "outputs": []
    }
  ]
}